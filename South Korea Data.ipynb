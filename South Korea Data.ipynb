{
 "cells": [
  {
   "cell_type": "markdown",
   "id": "039de027-a055-4ef8-a1e1-867eb6e53e4b",
   "metadata": {},
   "source": [
    "# South Korea Data\n",
    "This notebook is about exploring South Korea data"
   ]
  },
  {
   "cell_type": "code",
   "execution_count": 1,
   "id": "45298c75-3eca-452a-91aa-f4b44fba5469",
   "metadata": {},
   "outputs": [],
   "source": [
    "import pandas as pd\n",
    "from bokeh.io import output_notebook, show\n",
    "from bokeh.plotting import figure\n",
    "from bokeh.models import ColumnDataSource"
   ]
  },
  {
   "cell_type": "code",
   "execution_count": 2,
   "id": "45c1592f-d16a-44a1-8c8b-0958ec2c46ae",
   "metadata": {},
   "outputs": [],
   "source": [
    "sk_df = pd.read_csv('social_media-KR-monthly-201305-202305.csv')"
   ]
  },
  {
   "cell_type": "code",
   "execution_count": 3,
   "id": "0d1502b2-e044-459a-8012-bad6c7573ce7",
   "metadata": {},
   "outputs": [
    {
     "data": {
      "text/html": [
       "<div><div id=f1d7b002-64bb-4c1d-a095-827b632df007 style=\"display:none; background-color:#9D6CFF; color:white; width:200px; height:30px; padding-left:5px; border-radius:4px; flex-direction:row; justify-content:space-around; align-items:center;\" onmouseover=\"this.style.backgroundColor='#BA9BF8'\" onmouseout=\"this.style.backgroundColor='#9D6CFF'\" onclick=\"window.commands?.execute('create-mitosheet-from-dataframe-output');\">See Full Dataframe in Mito</div> <script> if (window.commands?.hasCommand('create-mitosheet-from-dataframe-output')) document.getElementById('f1d7b002-64bb-4c1d-a095-827b632df007').style.display = 'flex' </script> <table border=\"1\" class=\"dataframe\">\n",
       "  <thead>\n",
       "    <tr style=\"text-align: right;\">\n",
       "      <th></th>\n",
       "      <th>Date</th>\n",
       "      <th>Facebook</th>\n",
       "      <th>Twitter</th>\n",
       "      <th>YouTube</th>\n",
       "      <th>Tumblr</th>\n",
       "      <th>Pinterest</th>\n",
       "      <th>Instagram</th>\n",
       "      <th>reddit</th>\n",
       "      <th>Google+</th>\n",
       "      <th>StumbleUpon</th>\n",
       "      <th>LinkedIn</th>\n",
       "      <th>VKontakte</th>\n",
       "      <th>Vimeo</th>\n",
       "      <th>Other</th>\n",
       "    </tr>\n",
       "  </thead>\n",
       "  <tbody>\n",
       "    <tr>\n",
       "      <th>0</th>\n",
       "      <td>2013-05</td>\n",
       "      <td>66.95</td>\n",
       "      <td>14.62</td>\n",
       "      <td>4.92</td>\n",
       "      <td>0.0</td>\n",
       "      <td>4.68</td>\n",
       "      <td>0.0</td>\n",
       "      <td>3.48</td>\n",
       "      <td>0.64</td>\n",
       "      <td>3.97</td>\n",
       "      <td>0.22</td>\n",
       "      <td>0.03</td>\n",
       "      <td>0.09</td>\n",
       "      <td>0.39</td>\n",
       "    </tr>\n",
       "    <tr>\n",
       "      <th>1</th>\n",
       "      <td>2013-06</td>\n",
       "      <td>62.22</td>\n",
       "      <td>18.68</td>\n",
       "      <td>4.88</td>\n",
       "      <td>0.0</td>\n",
       "      <td>4.89</td>\n",
       "      <td>0.0</td>\n",
       "      <td>3.55</td>\n",
       "      <td>0.52</td>\n",
       "      <td>4.30</td>\n",
       "      <td>0.23</td>\n",
       "      <td>0.10</td>\n",
       "      <td>0.12</td>\n",
       "      <td>0.50</td>\n",
       "    </tr>\n",
       "    <tr>\n",
       "      <th>2</th>\n",
       "      <td>2013-07</td>\n",
       "      <td>58.35</td>\n",
       "      <td>22.73</td>\n",
       "      <td>4.65</td>\n",
       "      <td>0.0</td>\n",
       "      <td>4.92</td>\n",
       "      <td>0.0</td>\n",
       "      <td>3.15</td>\n",
       "      <td>0.57</td>\n",
       "      <td>4.71</td>\n",
       "      <td>0.25</td>\n",
       "      <td>0.07</td>\n",
       "      <td>0.12</td>\n",
       "      <td>0.48</td>\n",
       "    </tr>\n",
       "    <tr>\n",
       "      <th>3</th>\n",
       "      <td>2013-08</td>\n",
       "      <td>56.86</td>\n",
       "      <td>26.01</td>\n",
       "      <td>4.80</td>\n",
       "      <td>0.0</td>\n",
       "      <td>4.42</td>\n",
       "      <td>0.0</td>\n",
       "      <td>2.70</td>\n",
       "      <td>0.52</td>\n",
       "      <td>3.95</td>\n",
       "      <td>0.24</td>\n",
       "      <td>0.02</td>\n",
       "      <td>0.10</td>\n",
       "      <td>0.38</td>\n",
       "    </tr>\n",
       "    <tr>\n",
       "      <th>4</th>\n",
       "      <td>2013-09</td>\n",
       "      <td>55.72</td>\n",
       "      <td>27.48</td>\n",
       "      <td>3.45</td>\n",
       "      <td>0.0</td>\n",
       "      <td>5.01</td>\n",
       "      <td>0.0</td>\n",
       "      <td>3.30</td>\n",
       "      <td>0.51</td>\n",
       "      <td>3.83</td>\n",
       "      <td>0.20</td>\n",
       "      <td>0.03</td>\n",
       "      <td>0.11</td>\n",
       "      <td>0.35</td>\n",
       "    </tr>\n",
       "  </tbody>\n",
       "</table></div>"
      ],
      "text/plain": [
       "      Date  Facebook  Twitter  YouTube  Tumblr  Pinterest  Instagram  reddit  \\\n",
       "0  2013-05     66.95    14.62     4.92     0.0       4.68        0.0    3.48   \n",
       "1  2013-06     62.22    18.68     4.88     0.0       4.89        0.0    3.55   \n",
       "2  2013-07     58.35    22.73     4.65     0.0       4.92        0.0    3.15   \n",
       "3  2013-08     56.86    26.01     4.80     0.0       4.42        0.0    2.70   \n",
       "4  2013-09     55.72    27.48     3.45     0.0       5.01        0.0    3.30   \n",
       "\n",
       "   Google+  StumbleUpon  LinkedIn  VKontakte  Vimeo  Other  \n",
       "0     0.64         3.97      0.22       0.03   0.09   0.39  \n",
       "1     0.52         4.30      0.23       0.10   0.12   0.50  \n",
       "2     0.57         4.71      0.25       0.07   0.12   0.48  \n",
       "3     0.52         3.95      0.24       0.02   0.10   0.38  \n",
       "4     0.51         3.83      0.20       0.03   0.11   0.35  "
      ]
     },
     "execution_count": 3,
     "metadata": {},
     "output_type": "execute_result"
    }
   ],
   "source": [
    "sk_df.head()"
   ]
  },
  {
   "cell_type": "code",
   "execution_count": 4,
   "id": "700f90d3-7a35-4d09-bd7b-9e6264d8120c",
   "metadata": {},
   "outputs": [],
   "source": [
    "# important to convert the date column to datetime!\n",
    "sk_df['Date'] = pd.to_datetime(sk_df['Date'])"
   ]
  },
  {
   "cell_type": "code",
   "execution_count": 5,
   "id": "f68ed83e-3d7d-4f87-971c-785a65563ad8",
   "metadata": {},
   "outputs": [
    {
     "name": "stdout",
     "output_type": "stream",
     "text": [
      "<class 'pandas.core.frame.DataFrame'>\n",
      "RangeIndex: 121 entries, 0 to 120\n",
      "Data columns (total 14 columns):\n",
      " #   Column       Non-Null Count  Dtype         \n",
      "---  ------       --------------  -----         \n",
      " 0   Date         121 non-null    datetime64[ns]\n",
      " 1   Facebook     121 non-null    float64       \n",
      " 2   Twitter      121 non-null    float64       \n",
      " 3   YouTube      121 non-null    float64       \n",
      " 4   Tumblr       121 non-null    float64       \n",
      " 5   Pinterest    121 non-null    float64       \n",
      " 6   Instagram    121 non-null    float64       \n",
      " 7   reddit       121 non-null    float64       \n",
      " 8   Google+      121 non-null    float64       \n",
      " 9   StumbleUpon  121 non-null    float64       \n",
      " 10  LinkedIn     121 non-null    float64       \n",
      " 11  VKontakte    121 non-null    float64       \n",
      " 12  Vimeo        121 non-null    float64       \n",
      " 13  Other        121 non-null    float64       \n",
      "dtypes: datetime64[ns](1), float64(13)\n",
      "memory usage: 13.4 KB\n"
     ]
    }
   ],
   "source": [
    "sk_df.info()"
   ]
  },
  {
   "cell_type": "code",
   "execution_count": 6,
   "id": "4e953cb8-6bde-403b-a49e-f7e75dd102d9",
   "metadata": {},
   "outputs": [],
   "source": [
    "p = figure(width=800, height=800, title=\"USA Data\",  x_axis_type = 'datetime', x_axis_label = 'Date', y_axis_label= 'Percent')\n",
    "p.line(y=sk_df['Facebook'], x=sk_df['Date'], line_width=2, color='red', legend_label='Facebook')\n",
    "p.line(y=sk_df['Twitter'], x=sk_df['Date'], line_width=2, color='green', legend_label='Twitter')\n",
    "p.line(y=sk_df['Pinterest'], x=sk_df['Date'], line_width=2, color='grey', legend_label='Pinterest')\n",
    "p.line(y=sk_df['Tumblr'], x=sk_df['Date'], line_width=2, color='black', legend_label='Tumblr')\n",
    "p.line(y=sk_df['Instagram'], x=sk_df['Date'], line_width=2, color='blue', legend_label='Instagram')\n",
    "p.line(y=sk_df['reddit'], x=sk_df['Date'], line_width=2, color='purple', legend_label='reddit')\n",
    "p.line(y=sk_df['YouTube'], x=sk_df['Date'], line_width=2, color='cyan', legend_label='YouTube')\n",
    "show(p)"
   ]
  },
  {
   "cell_type": "code",
   "execution_count": null,
   "id": "b35ecd50-5151-4474-94d0-b0086327bb84",
   "metadata": {},
   "outputs": [],
   "source": []
  }
 ],
 "metadata": {
  "kernelspec": {
   "display_name": "Python 3 (ipykernel)",
   "language": "python",
   "name": "python3"
  },
  "language_info": {
   "codemirror_mode": {
    "name": "ipython",
    "version": 3
   },
   "file_extension": ".py",
   "mimetype": "text/x-python",
   "name": "python",
   "nbconvert_exporter": "python",
   "pygments_lexer": "ipython3",
   "version": "3.10.9"
  }
 },
 "nbformat": 4,
 "nbformat_minor": 5
}
