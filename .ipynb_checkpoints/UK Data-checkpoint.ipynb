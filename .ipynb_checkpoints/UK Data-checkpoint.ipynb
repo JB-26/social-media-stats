{
 "cells": [
  {
   "cell_type": "markdown",
   "id": "f86299f5-5d15-4a70-8b3d-398321d42c27",
   "metadata": {},
   "source": [
    "# UK Data Exploration\n",
    "\n",
    "This notebook is about exploring the UK data"
   ]
  },
  {
   "cell_type": "code",
   "execution_count": 1,
   "id": "6a64a3ad-2187-43ba-bd69-96ee01574c57",
   "metadata": {},
   "outputs": [],
   "source": [
    "import pandas as pd\n",
    "from bokeh.io import output_notebook, show\n",
    "from bokeh.plotting import figure\n",
    "from bokeh.models import ColumnDataSource"
   ]
  },
  {
   "cell_type": "code",
   "execution_count": 2,
   "id": "0800959f-a7ee-4a0f-b5ca-a86cf966445f",
   "metadata": {},
   "outputs": [],
   "source": [
    "uk_df = pd.read_csv(\"social_media-GB-monthly-201305-202305.csv\")"
   ]
  },
  {
   "cell_type": "code",
   "execution_count": 3,
   "id": "65adfc97-44cb-4d02-8937-0f628a02e689",
   "metadata": {},
   "outputs": [
    {
     "data": {
      "text/html": [
       "<div><div id=35d486a7-380f-48ff-b7cb-6a0e6ca593b8 style=\"display:none; background-color:#9D6CFF; color:white; width:200px; height:30px; padding-left:5px; border-radius:4px; flex-direction:row; justify-content:space-around; align-items:center;\" onmouseover=\"this.style.backgroundColor='#BA9BF8'\" onmouseout=\"this.style.backgroundColor='#9D6CFF'\" onclick=\"window.commands?.execute('create-mitosheet-from-dataframe-output');\">See Full Dataframe in Mito</div> <script> if (window.commands?.hasCommand('create-mitosheet-from-dataframe-output')) document.getElementById('35d486a7-380f-48ff-b7cb-6a0e6ca593b8').style.display = 'flex' </script> <table border=\"1\" class=\"dataframe\">\n",
       "  <thead>\n",
       "    <tr style=\"text-align: right;\">\n",
       "      <th></th>\n",
       "      <th>Date</th>\n",
       "      <th>Facebook</th>\n",
       "      <th>Twitter</th>\n",
       "      <th>Pinterest</th>\n",
       "      <th>Tumblr</th>\n",
       "      <th>Instagram</th>\n",
       "      <th>reddit</th>\n",
       "      <th>StumbleUpon</th>\n",
       "      <th>YouTube</th>\n",
       "      <th>LinkedIn</th>\n",
       "      <th>Google+</th>\n",
       "      <th>VKontakte</th>\n",
       "      <th>news.ycombinator.com</th>\n",
       "      <th>Fark</th>\n",
       "      <th>Digg</th>\n",
       "      <th>Other</th>\n",
       "    </tr>\n",
       "  </thead>\n",
       "  <tbody>\n",
       "    <tr>\n",
       "      <th>0</th>\n",
       "      <td>2013-05</td>\n",
       "      <td>61.95</td>\n",
       "      <td>19.34</td>\n",
       "      <td>3.69</td>\n",
       "      <td>0.0</td>\n",
       "      <td>0.0</td>\n",
       "      <td>4.53</td>\n",
       "      <td>6.93</td>\n",
       "      <td>2.75</td>\n",
       "      <td>0.34</td>\n",
       "      <td>0.24</td>\n",
       "      <td>0.03</td>\n",
       "      <td>0.0</td>\n",
       "      <td>0.02</td>\n",
       "      <td>0.02</td>\n",
       "      <td>0.16</td>\n",
       "    </tr>\n",
       "    <tr>\n",
       "      <th>1</th>\n",
       "      <td>2013-06</td>\n",
       "      <td>62.61</td>\n",
       "      <td>19.93</td>\n",
       "      <td>3.73</td>\n",
       "      <td>0.0</td>\n",
       "      <td>0.0</td>\n",
       "      <td>4.06</td>\n",
       "      <td>6.25</td>\n",
       "      <td>2.46</td>\n",
       "      <td>0.36</td>\n",
       "      <td>0.24</td>\n",
       "      <td>0.03</td>\n",
       "      <td>0.0</td>\n",
       "      <td>0.04</td>\n",
       "      <td>0.03</td>\n",
       "      <td>0.27</td>\n",
       "    </tr>\n",
       "    <tr>\n",
       "      <th>2</th>\n",
       "      <td>2013-07</td>\n",
       "      <td>58.82</td>\n",
       "      <td>22.21</td>\n",
       "      <td>4.10</td>\n",
       "      <td>0.0</td>\n",
       "      <td>0.0</td>\n",
       "      <td>4.13</td>\n",
       "      <td>6.92</td>\n",
       "      <td>2.71</td>\n",
       "      <td>0.46</td>\n",
       "      <td>0.30</td>\n",
       "      <td>0.01</td>\n",
       "      <td>0.0</td>\n",
       "      <td>0.03</td>\n",
       "      <td>0.05</td>\n",
       "      <td>0.27</td>\n",
       "    </tr>\n",
       "    <tr>\n",
       "      <th>3</th>\n",
       "      <td>2013-08</td>\n",
       "      <td>54.96</td>\n",
       "      <td>23.91</td>\n",
       "      <td>4.69</td>\n",
       "      <td>0.0</td>\n",
       "      <td>0.0</td>\n",
       "      <td>4.49</td>\n",
       "      <td>7.85</td>\n",
       "      <td>3.02</td>\n",
       "      <td>0.53</td>\n",
       "      <td>0.32</td>\n",
       "      <td>0.02</td>\n",
       "      <td>0.0</td>\n",
       "      <td>0.03</td>\n",
       "      <td>0.07</td>\n",
       "      <td>0.13</td>\n",
       "    </tr>\n",
       "    <tr>\n",
       "      <th>4</th>\n",
       "      <td>2013-09</td>\n",
       "      <td>52.65</td>\n",
       "      <td>24.90</td>\n",
       "      <td>5.15</td>\n",
       "      <td>0.0</td>\n",
       "      <td>0.0</td>\n",
       "      <td>5.69</td>\n",
       "      <td>7.78</td>\n",
       "      <td>2.86</td>\n",
       "      <td>0.46</td>\n",
       "      <td>0.32</td>\n",
       "      <td>0.01</td>\n",
       "      <td>0.0</td>\n",
       "      <td>0.02</td>\n",
       "      <td>0.04</td>\n",
       "      <td>0.12</td>\n",
       "    </tr>\n",
       "  </tbody>\n",
       "</table></div>"
      ],
      "text/plain": [
       "      Date  Facebook  Twitter  Pinterest  Tumblr  Instagram  reddit  \\\n",
       "0  2013-05     61.95    19.34       3.69     0.0        0.0    4.53   \n",
       "1  2013-06     62.61    19.93       3.73     0.0        0.0    4.06   \n",
       "2  2013-07     58.82    22.21       4.10     0.0        0.0    4.13   \n",
       "3  2013-08     54.96    23.91       4.69     0.0        0.0    4.49   \n",
       "4  2013-09     52.65    24.90       5.15     0.0        0.0    5.69   \n",
       "\n",
       "   StumbleUpon  YouTube  LinkedIn  Google+  VKontakte  news.ycombinator.com  \\\n",
       "0         6.93     2.75      0.34     0.24       0.03                   0.0   \n",
       "1         6.25     2.46      0.36     0.24       0.03                   0.0   \n",
       "2         6.92     2.71      0.46     0.30       0.01                   0.0   \n",
       "3         7.85     3.02      0.53     0.32       0.02                   0.0   \n",
       "4         7.78     2.86      0.46     0.32       0.01                   0.0   \n",
       "\n",
       "   Fark  Digg  Other  \n",
       "0  0.02  0.02   0.16  \n",
       "1  0.04  0.03   0.27  \n",
       "2  0.03  0.05   0.27  \n",
       "3  0.03  0.07   0.13  \n",
       "4  0.02  0.04   0.12  "
      ]
     },
     "execution_count": 3,
     "metadata": {},
     "output_type": "execute_result"
    }
   ],
   "source": [
    "uk_df.head()"
   ]
  },
  {
   "cell_type": "code",
   "execution_count": 4,
   "id": "4a892596-05b4-4a60-9755-b2a5b0eed4f2",
   "metadata": {},
   "outputs": [],
   "source": [
    "# important to convert the date column to datetime!\n",
    "uk_df['Date'] = pd.to_datetime(uk_df['Date'])"
   ]
  },
  {
   "cell_type": "code",
   "execution_count": 6,
   "id": "8e12a622-8fd0-43bf-b083-1caf7c7273df",
   "metadata": {},
   "outputs": [
    {
     "name": "stdout",
     "output_type": "stream",
     "text": [
      "<class 'pandas.core.frame.DataFrame'>\n",
      "RangeIndex: 121 entries, 0 to 120\n",
      "Data columns (total 16 columns):\n",
      " #   Column                Non-Null Count  Dtype         \n",
      "---  ------                --------------  -----         \n",
      " 0   Date                  121 non-null    datetime64[ns]\n",
      " 1   Facebook              121 non-null    float64       \n",
      " 2   Twitter               121 non-null    float64       \n",
      " 3   Pinterest             121 non-null    float64       \n",
      " 4   Tumblr                121 non-null    float64       \n",
      " 5   Instagram             121 non-null    float64       \n",
      " 6   reddit                121 non-null    float64       \n",
      " 7   StumbleUpon           121 non-null    float64       \n",
      " 8   YouTube               121 non-null    float64       \n",
      " 9   LinkedIn              121 non-null    float64       \n",
      " 10  Google+               121 non-null    float64       \n",
      " 11  VKontakte             121 non-null    float64       \n",
      " 12  news.ycombinator.com  121 non-null    float64       \n",
      " 13  Fark                  121 non-null    float64       \n",
      " 14  Digg                  121 non-null    float64       \n",
      " 15  Other                 121 non-null    float64       \n",
      "dtypes: datetime64[ns](1), float64(15)\n",
      "memory usage: 15.2 KB\n"
     ]
    }
   ],
   "source": [
    "uk_df.info()"
   ]
  },
  {
   "cell_type": "code",
   "execution_count": 10,
   "id": "8d69252b-89fb-4ca7-8944-50baf2d4019b",
   "metadata": {},
   "outputs": [],
   "source": [
    "p = figure(width=800, height=800, title=\"UK Data\",  x_axis_type = 'datetime', x_axis_label = 'Date', y_axis_label= 'Percent')\n",
    "p.line(y=uk_df['Facebook'], x=uk_df['Date'], line_width=2, color='red', legend_label='Facebook')\n",
    "p.line(y=uk_df['Twitter'], x=uk_df['Date'], line_width=2, color='green', legend_label='Twitter')\n",
    "p.line(y=uk_df['Pinterest'], x=uk_df['Date'], line_width=2, color='grey', legend_label='Pinterest')\n",
    "p.line(y=uk_df['Tumblr'], x=uk_df['Date'], line_width=2, color='black', legend_label='Tumblr')\n",
    "p.line(y=uk_df['Instagram'], x=uk_df['Date'], line_width=2, color='blue', legend_label='Instagram')\n",
    "p.line(y=uk_df['reddit'], x=uk_df['Date'], line_width=2, color='purple', legend_label='reddit')\n",
    "p.line(y=uk_df['YouTube'], x=uk_df['Date'], line_width=2, color='cyan', legend_label='YouTube')\n",
    "show(p)"
   ]
  },
  {
   "cell_type": "code",
   "execution_count": null,
   "id": "8683b2da-cbc9-48d7-9db1-0b3e78104141",
   "metadata": {},
   "outputs": [],
   "source": []
  }
 ],
 "metadata": {
  "kernelspec": {
   "display_name": "Python 3 (ipykernel)",
   "language": "python",
   "name": "python3"
  },
  "language_info": {
   "codemirror_mode": {
    "name": "ipython",
    "version": 3
   },
   "file_extension": ".py",
   "mimetype": "text/x-python",
   "name": "python",
   "nbconvert_exporter": "python",
   "pygments_lexer": "ipython3",
   "version": "3.9.13"
  }
 },
 "nbformat": 4,
 "nbformat_minor": 5
}
