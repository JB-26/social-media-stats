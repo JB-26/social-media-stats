{
 "cells": [
  {
   "cell_type": "markdown",
   "id": "5e06279b-15ba-44ad-8a0a-77c291b5fd16",
   "metadata": {},
   "source": [
    "# Linear Regression Notebook\n",
    "This will use PyTorch to perform Linear Regression"
   ]
  },
  {
   "cell_type": "code",
   "execution_count": 21,
   "id": "95930e7a-6809-428f-b2df-b91bf31968f2",
   "metadata": {},
   "outputs": [],
   "source": [
    "import torch\n",
    "import numpy as np\n",
    "import pandas as pd\n",
    "import matplotlib.pyplot as plt\n",
    "import datetime as dt"
   ]
  },
  {
   "cell_type": "code",
   "execution_count": 2,
   "id": "4b2ac165-cb8d-43f5-a3cf-110ec2fa00a7",
   "metadata": {},
   "outputs": [],
   "source": [
    "df = pd.read_csv(\"social_media-GB-monthly-201301-202301.csv\")"
   ]
  },
  {
   "cell_type": "code",
   "execution_count": 3,
   "id": "89118f8b-0a7b-4454-8765-6fb1ffc4694f",
   "metadata": {},
   "outputs": [
    {
     "data": {
      "text/html": [
       "<div><div id=30914f71-ed28-4c81-a9b6-a291385a03e0 style=\"display:none; background-color:#9D6CFF; color:white; width:200px; height:30px; padding-left:5px; border-radius:4px; flex-direction:row; justify-content:space-around; align-items:center;\" onmouseover=\"this.style.backgroundColor='#BA9BF8'\" onmouseout=\"this.style.backgroundColor='#9D6CFF'\" onclick=\"window.commands?.execute('create-mitosheet-from-dataframe-output');\">See Full Dataframe in Mito</div> <script> if (window.commands?.hasCommand('create-mitosheet-from-dataframe-output')) document.getElementById('30914f71-ed28-4c81-a9b6-a291385a03e0').style.display = 'flex' </script> <table border=\"1\" class=\"dataframe\">\n",
       "  <thead>\n",
       "    <tr style=\"text-align: right;\">\n",
       "      <th></th>\n",
       "      <th>Date</th>\n",
       "      <th>Facebook</th>\n",
       "      <th>Twitter</th>\n",
       "      <th>Pinterest</th>\n",
       "      <th>Tumblr</th>\n",
       "      <th>Instagram</th>\n",
       "      <th>reddit</th>\n",
       "      <th>StumbleUpon</th>\n",
       "      <th>YouTube</th>\n",
       "      <th>LinkedIn</th>\n",
       "      <th>Google+</th>\n",
       "      <th>VKontakte</th>\n",
       "      <th>news.ycombinator.com</th>\n",
       "      <th>Fark</th>\n",
       "      <th>Digg</th>\n",
       "      <th>Other</th>\n",
       "    </tr>\n",
       "  </thead>\n",
       "  <tbody>\n",
       "    <tr>\n",
       "      <th>0</th>\n",
       "      <td>2013-01</td>\n",
       "      <td>63.21</td>\n",
       "      <td>17.49</td>\n",
       "      <td>3.69</td>\n",
       "      <td>0.0</td>\n",
       "      <td>0.0</td>\n",
       "      <td>3.55</td>\n",
       "      <td>7.48</td>\n",
       "      <td>3.75</td>\n",
       "      <td>0.44</td>\n",
       "      <td>0.01</td>\n",
       "      <td>0.01</td>\n",
       "      <td>0.11</td>\n",
       "      <td>0.03</td>\n",
       "      <td>0.03</td>\n",
       "      <td>0.22</td>\n",
       "    </tr>\n",
       "    <tr>\n",
       "      <th>1</th>\n",
       "      <td>2013-02</td>\n",
       "      <td>60.88</td>\n",
       "      <td>19.06</td>\n",
       "      <td>4.41</td>\n",
       "      <td>0.0</td>\n",
       "      <td>0.0</td>\n",
       "      <td>3.67</td>\n",
       "      <td>6.98</td>\n",
       "      <td>3.99</td>\n",
       "      <td>0.43</td>\n",
       "      <td>0.23</td>\n",
       "      <td>0.02</td>\n",
       "      <td>0.11</td>\n",
       "      <td>0.02</td>\n",
       "      <td>0.02</td>\n",
       "      <td>0.19</td>\n",
       "    </tr>\n",
       "    <tr>\n",
       "      <th>2</th>\n",
       "      <td>2013-03</td>\n",
       "      <td>59.06</td>\n",
       "      <td>20.26</td>\n",
       "      <td>4.54</td>\n",
       "      <td>0.0</td>\n",
       "      <td>0.0</td>\n",
       "      <td>3.93</td>\n",
       "      <td>6.82</td>\n",
       "      <td>4.34</td>\n",
       "      <td>0.41</td>\n",
       "      <td>0.36</td>\n",
       "      <td>0.01</td>\n",
       "      <td>0.04</td>\n",
       "      <td>0.03</td>\n",
       "      <td>0.02</td>\n",
       "      <td>0.19</td>\n",
       "    </tr>\n",
       "    <tr>\n",
       "      <th>3</th>\n",
       "      <td>2013-04</td>\n",
       "      <td>61.46</td>\n",
       "      <td>19.88</td>\n",
       "      <td>4.02</td>\n",
       "      <td>0.0</td>\n",
       "      <td>0.0</td>\n",
       "      <td>3.75</td>\n",
       "      <td>6.90</td>\n",
       "      <td>3.01</td>\n",
       "      <td>0.38</td>\n",
       "      <td>0.35</td>\n",
       "      <td>0.01</td>\n",
       "      <td>0.00</td>\n",
       "      <td>0.03</td>\n",
       "      <td>0.05</td>\n",
       "      <td>0.17</td>\n",
       "    </tr>\n",
       "    <tr>\n",
       "      <th>4</th>\n",
       "      <td>2013-05</td>\n",
       "      <td>61.95</td>\n",
       "      <td>19.34</td>\n",
       "      <td>3.69</td>\n",
       "      <td>0.0</td>\n",
       "      <td>0.0</td>\n",
       "      <td>4.53</td>\n",
       "      <td>6.93</td>\n",
       "      <td>2.75</td>\n",
       "      <td>0.34</td>\n",
       "      <td>0.24</td>\n",
       "      <td>0.03</td>\n",
       "      <td>0.00</td>\n",
       "      <td>0.02</td>\n",
       "      <td>0.02</td>\n",
       "      <td>0.16</td>\n",
       "    </tr>\n",
       "  </tbody>\n",
       "</table></div>"
      ],
      "text/plain": [
       "      Date  Facebook  Twitter  Pinterest  Tumblr  Instagram  reddit  \\\n",
       "0  2013-01     63.21    17.49       3.69     0.0        0.0    3.55   \n",
       "1  2013-02     60.88    19.06       4.41     0.0        0.0    3.67   \n",
       "2  2013-03     59.06    20.26       4.54     0.0        0.0    3.93   \n",
       "3  2013-04     61.46    19.88       4.02     0.0        0.0    3.75   \n",
       "4  2013-05     61.95    19.34       3.69     0.0        0.0    4.53   \n",
       "\n",
       "   StumbleUpon  YouTube  LinkedIn  Google+  VKontakte  news.ycombinator.com  \\\n",
       "0         7.48     3.75      0.44     0.01       0.01                  0.11   \n",
       "1         6.98     3.99      0.43     0.23       0.02                  0.11   \n",
       "2         6.82     4.34      0.41     0.36       0.01                  0.04   \n",
       "3         6.90     3.01      0.38     0.35       0.01                  0.00   \n",
       "4         6.93     2.75      0.34     0.24       0.03                  0.00   \n",
       "\n",
       "   Fark  Digg  Other  \n",
       "0  0.03  0.03   0.22  \n",
       "1  0.02  0.02   0.19  \n",
       "2  0.03  0.02   0.19  \n",
       "3  0.03  0.05   0.17  \n",
       "4  0.02  0.02   0.16  "
      ]
     },
     "execution_count": 3,
     "metadata": {},
     "output_type": "execute_result"
    }
   ],
   "source": [
    "df.head()"
   ]
  },
  {
   "cell_type": "code",
   "execution_count": 4,
   "id": "988aff5b-d47a-461a-86aa-2c7e950dce43",
   "metadata": {},
   "outputs": [],
   "source": [
    "df_facebook = df[['Facebook', 'Date']]"
   ]
  },
  {
   "cell_type": "code",
   "execution_count": 5,
   "id": "a09d22bd-50e0-4825-95bb-85b46b2c36c2",
   "metadata": {},
   "outputs": [
    {
     "data": {
      "text/html": [
       "<div><div id=d69b5169-2e68-4661-b25a-b1eeac055a65 style=\"display:none; background-color:#9D6CFF; color:white; width:200px; height:30px; padding-left:5px; border-radius:4px; flex-direction:row; justify-content:space-around; align-items:center;\" onmouseover=\"this.style.backgroundColor='#BA9BF8'\" onmouseout=\"this.style.backgroundColor='#9D6CFF'\" onclick=\"window.commands?.execute('create-mitosheet-from-dataframe-output');\">See Full Dataframe in Mito</div> <script> if (window.commands?.hasCommand('create-mitosheet-from-dataframe-output')) document.getElementById('d69b5169-2e68-4661-b25a-b1eeac055a65').style.display = 'flex' </script> <table border=\"1\" class=\"dataframe\">\n",
       "  <thead>\n",
       "    <tr style=\"text-align: right;\">\n",
       "      <th></th>\n",
       "      <th>Facebook</th>\n",
       "      <th>Date</th>\n",
       "    </tr>\n",
       "  </thead>\n",
       "  <tbody>\n",
       "    <tr>\n",
       "      <th>0</th>\n",
       "      <td>63.21</td>\n",
       "      <td>2013-01</td>\n",
       "    </tr>\n",
       "    <tr>\n",
       "      <th>1</th>\n",
       "      <td>60.88</td>\n",
       "      <td>2013-02</td>\n",
       "    </tr>\n",
       "    <tr>\n",
       "      <th>2</th>\n",
       "      <td>59.06</td>\n",
       "      <td>2013-03</td>\n",
       "    </tr>\n",
       "    <tr>\n",
       "      <th>3</th>\n",
       "      <td>61.46</td>\n",
       "      <td>2013-04</td>\n",
       "    </tr>\n",
       "    <tr>\n",
       "      <th>4</th>\n",
       "      <td>61.95</td>\n",
       "      <td>2013-05</td>\n",
       "    </tr>\n",
       "  </tbody>\n",
       "</table></div>"
      ],
      "text/plain": [
       "   Facebook     Date\n",
       "0     63.21  2013-01\n",
       "1     60.88  2013-02\n",
       "2     59.06  2013-03\n",
       "3     61.46  2013-04\n",
       "4     61.95  2013-05"
      ]
     },
     "execution_count": 5,
     "metadata": {},
     "output_type": "execute_result"
    }
   ],
   "source": [
    "df_facebook.head()"
   ]
  },
  {
   "cell_type": "code",
   "execution_count": 27,
   "id": "5289bbab-ddcf-4e41-a362-3d5e30e8cb72",
   "metadata": {},
   "outputs": [],
   "source": [
    "dates = df_facebook['Date']"
   ]
  },
  {
   "cell_type": "code",
   "execution_count": 28,
   "id": "cdbc6a31-78bc-4fad-9e22-b86f03eccb85",
   "metadata": {},
   "outputs": [
    {
     "name": "stdout",
     "output_type": "stream",
     "text": [
      "0      2013-01\n",
      "1      2013-02\n",
      "2      2013-03\n",
      "3      2013-04\n",
      "4      2013-05\n",
      "        ...   \n",
      "116    2022-09\n",
      "117    2022-10\n",
      "118    2022-11\n",
      "119    2022-12\n",
      "120    2023-01\n",
      "Name: Date, Length: 121, dtype: object\n"
     ]
    }
   ],
   "source": [
    "print(dates)"
   ]
  },
  {
   "cell_type": "code",
   "execution_count": 29,
   "id": "1c2399d8-4afe-42f7-8f95-d6156dd0aafd",
   "metadata": {},
   "outputs": [],
   "source": [
    "dates_to_datetime = pd.to_datetime(dates)\n",
    "dates_to_datetime = dates_to_datetime.map(dt.datetime.toordinal)"
   ]
  },
  {
   "cell_type": "code",
   "execution_count": 30,
   "id": "8afdf9f9-cbe8-4b99-afcd-bccc0627bc91",
   "metadata": {},
   "outputs": [
    {
     "name": "stdout",
     "output_type": "stream",
     "text": [
      "0      734869\n",
      "1      734900\n",
      "2      734928\n",
      "3      734959\n",
      "4      734989\n",
      "        ...  \n",
      "116    738399\n",
      "117    738429\n",
      "118    738460\n",
      "119    738490\n",
      "120    738521\n",
      "Name: Date, Length: 121, dtype: int64\n"
     ]
    }
   ],
   "source": [
    "print(dates_to_datetime)"
   ]
  },
  {
   "cell_type": "code",
   "execution_count": 17,
   "id": "e62dde09-f743-4901-a7d9-13c56171db26",
   "metadata": {},
   "outputs": [],
   "source": [
    "facebook_data = df_facebook['Facebook'].to_numpy()"
   ]
  },
  {
   "cell_type": "code",
   "execution_count": 12,
   "id": "dce926a2-7cb9-4f93-a9b0-a7b8b58765af",
   "metadata": {},
   "outputs": [
    {
     "name": "stdout",
     "output_type": "stream",
     "text": [
      "[63.21 60.88 59.06 61.46 61.95 62.61 58.82 54.96 52.65 57.39 57.29 52.99\n",
      " 56.83 56.92 56.58 58.74 58.12 63.08 63.02 68.89 73.39 76.07 75.12 81.06\n",
      " 78.21 78.55 81.95 82.22 82.04 82.03 80.97 79.22 78.86 79.79 81.82 81.03\n",
      " 82.17 82.34 82.56 82.11 81.13 81.24 81.78 80.25 80.47 79.28 80.75 80.72\n",
      " 87.08 83.87 79.62 74.13 75.06 75.56 77.28 78.5  73.24 70.8  67.04 72.88\n",
      " 70.34 66.58 61.12 58.85 58.8  55.92 64.54 64.21 68.65 66.6  64.9  70.81\n",
      " 64.53 63.88 55.51 61.22 61.18 59.57 57.66 60.51 58.09 44.6  43.49 40.18\n",
      " 37.09 36.12 39.64 36.01 60.3  58.31 55.87 58.27 55.21 54.19 48.32 50.56\n",
      " 52.39 53.84 56.8  56.3  56.05 52.27 55.9  60.82 64.13 54.07 55.6  58.56\n",
      " 64.14 61.37 60.49 62.48 64.38 62.28 60.83 57.79 54.18 52.48 48.68 49.89\n",
      " 52.  ]\n"
     ]
    }
   ],
   "source": [
    "print(test)"
   ]
  },
  {
   "cell_type": "code",
   "execution_count": 18,
   "id": "c1424053-2dae-4fea-babb-0200001378e5",
   "metadata": {},
   "outputs": [],
   "source": [
    "facebook_data_tensor = torch.from_numpy(facebook_data).type(torch.float32)"
   ]
  },
  {
   "cell_type": "code",
   "execution_count": 19,
   "id": "d648956d-603b-4df8-bbf1-cc98c0040968",
   "metadata": {},
   "outputs": [
    {
     "name": "stdout",
     "output_type": "stream",
     "text": [
      "tensor([63.2100, 60.8800, 59.0600, 61.4600, 61.9500, 62.6100, 58.8200, 54.9600,\n",
      "        52.6500, 57.3900, 57.2900, 52.9900, 56.8300, 56.9200, 56.5800, 58.7400,\n",
      "        58.1200, 63.0800, 63.0200, 68.8900, 73.3900, 76.0700, 75.1200, 81.0600,\n",
      "        78.2100, 78.5500, 81.9500, 82.2200, 82.0400, 82.0300, 80.9700, 79.2200,\n",
      "        78.8600, 79.7900, 81.8200, 81.0300, 82.1700, 82.3400, 82.5600, 82.1100,\n",
      "        81.1300, 81.2400, 81.7800, 80.2500, 80.4700, 79.2800, 80.7500, 80.7200,\n",
      "        87.0800, 83.8700, 79.6200, 74.1300, 75.0600, 75.5600, 77.2800, 78.5000,\n",
      "        73.2400, 70.8000, 67.0400, 72.8800, 70.3400, 66.5800, 61.1200, 58.8500,\n",
      "        58.8000, 55.9200, 64.5400, 64.2100, 68.6500, 66.6000, 64.9000, 70.8100,\n",
      "        64.5300, 63.8800, 55.5100, 61.2200, 61.1800, 59.5700, 57.6600, 60.5100,\n",
      "        58.0900, 44.6000, 43.4900, 40.1800, 37.0900, 36.1200, 39.6400, 36.0100,\n",
      "        60.3000, 58.3100, 55.8700, 58.2700, 55.2100, 54.1900, 48.3200, 50.5600,\n",
      "        52.3900, 53.8400, 56.8000, 56.3000, 56.0500, 52.2700, 55.9000, 60.8200,\n",
      "        64.1300, 54.0700, 55.6000, 58.5600, 64.1400, 61.3700, 60.4900, 62.4800,\n",
      "        64.3800, 62.2800, 60.8300, 57.7900, 54.1800, 52.4800, 48.6800, 49.8900,\n",
      "        52.0000])\n"
     ]
    }
   ],
   "source": [
    "print(facebook_data_tensor)"
   ]
  },
  {
   "cell_type": "code",
   "execution_count": null,
   "id": "01360ade-4c47-4186-b911-9edf2526a6ff",
   "metadata": {},
   "outputs": [],
   "source": []
  }
 ],
 "metadata": {
  "kernelspec": {
   "display_name": "Python 3 (ipykernel)",
   "language": "python",
   "name": "python3"
  },
  "language_info": {
   "codemirror_mode": {
    "name": "ipython",
    "version": 3
   },
   "file_extension": ".py",
   "mimetype": "text/x-python",
   "name": "python",
   "nbconvert_exporter": "python",
   "pygments_lexer": "ipython3",
   "version": "3.10.9"
  }
 },
 "nbformat": 4,
 "nbformat_minor": 5
}
