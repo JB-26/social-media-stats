{
 "cells": [
  {
   "cell_type": "markdown",
   "id": "f218bf82-f399-4cb5-be4c-664a98034604",
   "metadata": {},
   "source": [
    "# BEFORE YOU GET STARTED\n",
    "Make sure you use the requirements.txt file to create an environment with the appropriate packages.\n",
    "\n",
    "Also, make sure you have [Mito](https://www.trymito.io/) installed!"
   ]
  },
  {
   "cell_type": "code",
   "execution_count": 1,
   "id": "efd4cfaa-4add-4151-9fb4-a8a435107a6d",
   "metadata": {},
   "outputs": [],
   "source": [
    "import pandas as pd"
   ]
  },
  {
   "cell_type": "code",
   "execution_count": 2,
   "id": "fd51457d-d57f-43a6-8cb6-d31f1d799155",
   "metadata": {},
   "outputs": [],
   "source": [
    "uk_df = pd.read_csv(\"social_media-GB-monthly-201305-202305.csv\")"
   ]
  },
  {
   "cell_type": "code",
   "execution_count": 3,
   "id": "8edf47e0-be95-4ef5-9a0a-4233b024900a",
   "metadata": {},
   "outputs": [],
   "source": [
    "jp_df = pd.read_csv(\"social_media-JP-monthly-201305-202305.csv\")"
   ]
  },
  {
   "cell_type": "code",
   "execution_count": 5,
   "id": "65f5e727-c149-4b22-ab29-168e4e5519f1",
   "metadata": {},
   "outputs": [],
   "source": [
    "us_df = pd.read_csv(\"social_media-US-monthly-201305-202305.csv\")"
   ]
  },
  {
   "cell_type": "code",
   "execution_count": 6,
   "id": "e29edaf9-5e46-4e04-9d15-6929de3dddb9",
   "metadata": {},
   "outputs": [],
   "source": [
    "sk_df = pd.read_csv(\"social_media-KR-monthly-201305-202305.csv\")"
   ]
  },
  {
   "cell_type": "code",
   "execution_count": null,
   "id": "e4a13812-c646-4c9e-825f-73b7ec17995a",
   "metadata": {},
   "outputs": [],
   "source": []
  }
 ],
 "metadata": {
  "kernelspec": {
   "display_name": "Python 3 (ipykernel)",
   "language": "python",
   "name": "python3"
  },
  "language_info": {
   "codemirror_mode": {
    "name": "ipython",
    "version": 3
   },
   "file_extension": ".py",
   "mimetype": "text/x-python",
   "name": "python",
   "nbconvert_exporter": "python",
   "pygments_lexer": "ipython3",
   "version": "3.10.11"
  }
 },
 "nbformat": 4,
 "nbformat_minor": 5
}
